{
 "cells": [
  {
   "cell_type": "code",
   "execution_count": 1,
   "metadata": {},
   "outputs": [],
   "source": [
    "import requests"
   ]
  },
  {
   "cell_type": "code",
   "execution_count": 21,
   "metadata": {},
   "outputs": [],
   "source": [
    "api_key = \"N9gJKOLPvjQhjvpGWXuoHSz28uZ6jO79\"\n",
    "ticker = \"AAPL\"\n",
    "limit = \"100\"\n",
    "date = \"2021-06-28\"\n",
    "\n",
    "api_url = f\"https://api.polygon.io/v2/reference/news?limit={limit}&order=descending&sort=published_utc&ticker={ticker}&published_utc.gte={date}&apiKey={api_key}\""
   ]
  },
  {
   "cell_type": "code",
   "execution_count": 22,
   "metadata": {},
   "outputs": [
    {
     "data": {
      "text/plain": [
       "84"
      ]
     },
     "execution_count": 22,
     "metadata": {},
     "output_type": "execute_result"
    }
   ],
   "source": [
    "data = requests.get(api_url).json()\n",
    "len(data['results'])"
   ]
  },
  {
   "cell_type": "code",
   "execution_count": 26,
   "metadata": {},
   "outputs": [
    {
     "name": "stdout",
     "output_type": "stream",
     "text": [
      "2021-07-02T21:09:20Z\n",
      "2021-06-28T04:21:20Z\n"
     ]
    }
   ],
   "source": [
    "print(data['results'][0]['published_utc'])\n",
    "print(data['results'][-1]['published_utc'])"
   ]
  },
  {
   "cell_type": "code",
   "execution_count": 28,
   "metadata": {},
   "outputs": [
    {
     "data": {
      "text/plain": [
       "'Below is a recap of the main news related to the cannabis industry and markets for the week of June 28, 2021.\\nJustice Thomas\\xa0\\xa0\\xa0\\xa0\\xa0\\xa0\\xa0\\xa0\\xa0 \\nJustice Clarence Thomas, the Supreme Court’s longest-serving member, issued a crude statement on federal cannabis prohibition, highlighting irregularities in the federal government’s approach to marijuana policy.\\nThomas, who has served in the Supreme Court for almost 30 years and is often viewed as among\\xa0the most conservative, said “once comprehensive, the Federal Government’s current approach is a half-in, half-out regime that simultaneously tolerates and forbids local use of marijuana.”\\nThe Judge went so far as to say that prohibition of\\xa0intrastate cannabis\\xa0use or cultivation may no longer be necessary “to support the Federal Government’s piecemeal approach.”\\nThe government, according to Thomas,\\xa0has sent mixed signals on its position regarding cannabis prohibition.\\nWhile on the one hand, federal law still “flatly forbids the intrastate possession, cultivation, or distribution of marijuana,” the federal government has consistently allowed these acts.\\nAll details here.\\nMexico\\nMexico\\'s Supreme Court voted down the country’s cannabis prohibition laws in an 8-3 vote.\\nThe passage comes after the Senate and Congress missed several High Court-ordered deadlines to pass revised legislation.\\n\\nUnder the Supreme Court decision, citizens are now allowed legal access to cannabis, negating the previous exclusivity to medical patients. Citizens can now be issued permits for adult use and cultivation through the Health Department until legislation is passed.\\nBenzinga Cannabis’ content is now available in Spanish on El Planteo. \\nThe ruling does not approve of citizens turning to the illicit market in the meantime. Rather, cultivation laws allow a person to grow six plants for personal use, with a cap of eight per household.\\nApple’s Policy Changes\\nAs first reported by TechCrunch and WeedWeek, the ongoing conundrum between cannabis and tech took its\\xa0latest turn last month, when Apple Inc (NASDAQ: AAPL) updated its policies to allow pot-centric apps onto its store.\\nUnder its new policy, Apple created leeway that allows \"licensed and otherwise legal cannabis dispensaries\" from working with Apple. Companies must also be geofenced\\xa0to qualify for store listing.\\nThe decision was not a cannabis-specific one made by Apple. Instead, the move came as part of the company\\'s attempt to curtail fraudulent apps that scam consumers across the marketplace.\\nAlphabet Inc Class A (NASDAQ: GOOGL), which announced its ban on cannabis apps in 2019, continues to stick with its policy regarding its Google Play store.\\nThe decision comes as tech giants continue to handle cannabis apps and accounts in often unclear ways.\\nMarkets\\nOver the five trading days of this week:\\n\\nThe ETFMG Alternative Harvest ETF (NYSE: MJ): lost 2.5%.\\nThe AdvisorShares Pure Cannabis ETF (NYSE: YOLO): closed almost flat.\\nThe AdvisorShares Pure US Cannabis ETF (NYSE: MSOS): rose 1.3%.\\nThe Cannabis ETF (NYSE: THCX): was down 1.6%.\\nThe Amplify Seymour Cannabis ETF (NYSE: CNBS): tumbled 0.7%.\\nThe SPDR S&P 500 ETF Trust (NYSE: SPY) closed the week up 1.68%.\\n\\nGrowGeneration Corp (NASDAQ: GRWG) was added to the Russell 2000 Index.\\nTilray Inc. (NASDAQ:\\xa0TLRY) released a proxy statement with an open letter from the company’s CEO\\xa0Irwin D. Simon, in which he called\\xa0on shareholders to support a proposal to be discussed\\xa0up at the upcoming annual shareholder meeting.\\nSimon asked shareholders to support a proposal that will allow the company to increase the number of authorized shares of common stock, enabling it to make acquisitions for growth. He also\\xa0asked shareholders\\xa0to authorize several amendments and changes to the company’s organizational documents that would expand\\xa0shareholders\\'\\xa0rights.\\nAlso this week, the company announced that its SweetWater Brewing Company\\xa0launched its first Canadian craft cannabis brew in the U.S. in collaboration with Canada\\'s Broken Coast Cannabis Ltd.\\nSha’Carri Richardson\\nAmerican sprinter\\xa0Sha’Carri Richardson, who won the hearts of millions of sports fans, lost her chance to shine at this year\\'s\\xa0U.S. Olympics after she tested positive for cannabis.\\nThe U.S.\\xa0Anti-Doping Agency confirmed Friday that Richardson has accepted a one-month suspension by which the results of her Olympics\\xa0trials have been \"disqualified, and she forfeits any medals, points, and prizes\"\\xa0as allowed under the international anti-doping regulations.\\nA Weak Q2\\nThe Global Cannabis Stock Index fell for the fourth straight month, dropping 4.1% to 57.10.\\nDuring the second quarter, the index was down 8.7%.\\nAfter gaining 5.2% in 2020\\xa0when it ended at 44.39, the index is up 28.6% in 2021 and has gained 94.2% over the past year.\\nThe index dropped 38.3% from its 2021 closing high of 92.48 on February 10.\\nIn addition, it had 46 qualifying members during the month, following the quarterly rebalancing at the end of March as well as Aphria’s merger with Tilray and Jazz Pharmaceuticals PLC’s (NASDAQ: JAZZ) acquisition of GW Pharma (NASDAQ: GWPH) in May.\\nRegulatory Updates\\nThis week:\\n\\nColorado’s Governor Signed A New Law With Stricter Rules For Doctors Recommending Medical Cannabis\\xa0\\nRhode Island Cannabis Workers Went On Strike After A Union ...'"
      ]
     },
     "execution_count": 28,
     "metadata": {},
     "output_type": "execute_result"
    }
   ],
   "source": [
    "data['results'][0]['description']"
   ]
  },
  {
   "cell_type": "code",
   "execution_count": null,
   "metadata": {},
   "outputs": [],
   "source": []
  }
 ],
 "metadata": {
  "kernelspec": {
   "display_name": "Python 3",
   "language": "python",
   "name": "python3"
  },
  "language_info": {
   "codemirror_mode": {
    "name": "ipython",
    "version": 3
   },
   "file_extension": ".py",
   "mimetype": "text/x-python",
   "name": "python",
   "nbconvert_exporter": "python",
   "pygments_lexer": "ipython3",
   "version": "3.8.5"
  }
 },
 "nbformat": 4,
 "nbformat_minor": 4
}

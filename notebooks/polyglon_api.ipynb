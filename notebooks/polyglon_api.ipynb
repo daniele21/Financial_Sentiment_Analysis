{
 "cells": [
  {
   "cell_type": "code",
   "execution_count": 1,
   "metadata": {},
   "outputs": [],
   "source": [
    "import requests"
   ]
  },
  {
   "cell_type": "code",
   "execution_count": 13,
   "metadata": {},
   "outputs": [],
   "source": [
    "with open('../files/api_key_polyglon.txt') as f:\n",
    "    key = f.read()"
   ]
  },
  {
   "cell_type": "code",
   "execution_count": 14,
   "metadata": {},
   "outputs": [
    {
     "data": {
      "text/plain": [
       "'N9gJKOLPvjQhjvpGWXuoHSz28uZ6jO79'"
      ]
     },
     "execution_count": 14,
     "metadata": {},
     "output_type": "execute_result"
    }
   ],
   "source": [
    "key"
   ]
  },
  {
   "cell_type": "code",
   "execution_count": 21,
   "metadata": {},
   "outputs": [],
   "source": [
    "#api_key = \"N9gJKOLPvjQhjvpGWXuoHSz28uZ6jO79\"\n",
    "ticker = \"AAPL\"\n",
    "limit = \"500\"\n",
    "date = \"2021-06-28\"\n",
    "\n",
    "api_url = f\"https://api.polygon.io/v2/reference/news?limit={limit}&order=descending&sort=published_utc&ticker={ticker}&published_utc.gte={date}&apiKey={api_key}\""
   ]
  },
  {
   "cell_type": "code",
   "execution_count": 22,
   "metadata": {},
   "outputs": [
    {
     "data": {
      "text/plain": [
       "86"
      ]
     },
     "execution_count": 22,
     "metadata": {},
     "output_type": "execute_result"
    }
   ],
   "source": [
    "data = requests.get(api_url).json()\n",
    "len(data['results'])"
   ]
  },
  {
   "cell_type": "code",
   "execution_count": 12,
   "metadata": {},
   "outputs": [
    {
     "name": "stdout",
     "output_type": "stream",
     "text": [
      "2021-07-03T11:00:00Z\n",
      "2021-06-28T04:21:20Z\n"
     ]
    }
   ],
   "source": [
    "print(data['results'][0]['published_utc'])\n",
    "print(data['results'][-1]['published_utc'])"
   ]
  },
  {
   "cell_type": "code",
   "execution_count": 20,
   "metadata": {},
   "outputs": [
    {
     "name": "stdout",
     "output_type": "stream",
     "text": [
      "1 Thing You're Missing About Goldman Sachs \n",
      "\n",
      "\n"
     ]
    },
    {
     "data": {
      "text/plain": [
       "{'id': 'MZbS5sR2YLdUvjNOIzwAzSMb1NanWaciv-cnwgNj0ik',\n",
       " 'publisher': {'name': 'The Motley Fool',\n",
       "  'homepage_url': 'https://www.fool.com/',\n",
       "  'logo_url': 'https://storage.googleapis.com/polygon-io-public/assets/news/logos/themotleyfool.svg',\n",
       "  'favicon_url': 'https://storage.googleapis.com/polygon-io-public/assets/news/favicons/themotleyfool.ico'},\n",
       " 'title': \"1 Thing You're Missing About Goldman Sachs\",\n",
       " 'author': 'newsfeedback@fool.com (Matthew Frankel, CFP)',\n",
       " 'published_utc': '2021-07-03T10:17:00Z',\n",
       " 'article_url': 'https://www.fool.com/investing/2021/07/03/1-thing-youre-missing-about-goldman-sachs/',\n",
       " 'tickers': ['GS', 'BAC', 'C', 'AAPL', 'JPM', 'GM', 'SOFI'],\n",
       " 'amp_url': 'https://www.fool.com/amp/investing/2021/07/03/1-thing-youre-missing-about-goldman-sachs/',\n",
       " 'image_url': 'https://g.foolcdn.com/editorial/images/632266/cash-in-rubber-bands.jpg',\n",
       " 'description': 'Think Goldman Sachs is just a big investment bank? Think again.',\n",
       " 'keywords': ['investing']}"
      ]
     },
     "execution_count": 20,
     "metadata": {},
     "output_type": "execute_result"
    }
   ],
   "source": [
    "print(data['results'][1]['title'], \"\\n\\n\")\n",
    "\n",
    "data['results'][1]"
   ]
  },
  {
   "cell_type": "code",
   "execution_count": null,
   "metadata": {},
   "outputs": [],
   "source": []
  }
 ],
 "metadata": {
  "kernelspec": {
   "display_name": "Python 3",
   "language": "python",
   "name": "python3"
  },
  "language_info": {
   "codemirror_mode": {
    "name": "ipython",
    "version": 3
   },
   "file_extension": ".py",
   "mimetype": "text/x-python",
   "name": "python",
   "nbconvert_exporter": "python",
   "pygments_lexer": "ipython3",
   "version": "3.8.5"
  }
 },
 "nbformat": 4,
 "nbformat_minor": 4
}
